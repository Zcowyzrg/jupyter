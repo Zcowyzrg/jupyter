{
 "cells": [
  {
   "cell_type": "markdown",
   "id": "6131dfe6",
   "metadata": {},
   "source": [
    "## Real audio sample"
   ]
  },
  {
   "cell_type": "code",
   "execution_count": null,
   "id": "11ccdc84",
   "metadata": {},
   "outputs": [],
   "source": [
    "import matplotlib.pyplot as plt\n",
    "import numpy as np\n",
    "\n",
    "%matplotlib inline\n",
    "# or notebook ^^^\n",
    "plt.rcParams[\"figure.figsize\"] = (18,9)\n",
    "\n",
    "# https://scipy-lectures.org/intro/scipy/auto_examples/plot_fftpack.html\n",
    "# https://scipy.github.io/devdocs/tutorial/fft.html"
   ]
  },
  {
   "cell_type": "code",
   "execution_count": null,
   "id": "ec9c8c13",
   "metadata": {},
   "outputs": [],
   "source": [
    "HZ = [50, 90]\n",
    "SAMPLE_RATE = 8000\n",
    "TIME_SEC = 3\n",
    "NSAMP = TIME_SEC * SAMPLE_RATE\n",
    "NSAMP02 = SAMPLE_RATE // 5\n",
    "X = np.linspace(0, TIME_SEC, NSAMP, endpoint=False)\n",
    "Y = np.zeros(NSAMP)\n",
    "for hz in HZ:\n",
    "    Y = np.add(Y, np.sin(hz * 2 * np.pi * X) / len(HZ))\n",
    "# draw 1/5 second of data\n",
    "wf = np.hanning(NSAMP02)\n",
    "plt.plot(X[:NSAMP02], Y[:NSAMP02],\n",
    "         X[:NSAMP02], wf * Y[:NSAMP02])\n",
    "plt.show()"
   ]
  },
  {
   "cell_type": "code",
   "execution_count": null,
   "id": "d56380e4",
   "metadata": {},
   "outputs": [],
   "source": [
    "%time YF = np.fft.rfft(Y)\n",
    "XF = np.fft.rfftfreq(NSAMP, d=1/SAMPLE_RATE)\n",
    "print(f'NSAMP={NSAMP} XF.size={XF.size} YF.size={YF.size}')\n",
    "YFF = 2.0 / NSAMP * np.abs(YF)\n",
    "# Clip to 1000Hz. Max freq = SAMPLE_RATE / 2\n",
    "FFSAMP = 1000 * 2 * XF.size // SAMPLE_RATE\n",
    "plt.plot(XF[:FFSAMP], YFF[:FFSAMP])\n",
    "#plt.plot(XF, YFF)\n",
    "plt.show()"
   ]
  },
  {
   "cell_type": "markdown",
   "id": "34275e97",
   "metadata": {},
   "source": [
    "## Speed testing of array conversions"
   ]
  },
  {
   "cell_type": "code",
   "execution_count": null,
   "id": "e0933b2e",
   "metadata": {},
   "outputs": [],
   "source": [
    "%time arr = [x / 1000.0 for x in range(800000)]\n",
    "print('arr:', len(arr), ':', arr[0], arr[1], arr[2], '...', arr[-3], arr[-2], arr[-1])\n",
    "%time crr = np.asarray([1000*x for x in arr], dtype=np.int32)\n",
    "print(crr.size, crr)\n",
    "%time drr = np.asarray(1000 * np.asarray(arr, dtype=np.double), dtype=np.int32)\n",
    "print(drr.size, drr)\n",
    "%time np.asarray(np.multiply(1000, arr), dtype=np.int32)"
   ]
  }
 ],
 "metadata": {
  "kernelspec": {
   "display_name": "Python 3 (ipykernel)",
   "language": "python",
   "name": "python3"
  },
  "language_info": {
   "codemirror_mode": {
    "name": "ipython",
    "version": 3
   },
   "file_extension": ".py",
   "mimetype": "text/x-python",
   "name": "python",
   "nbconvert_exporter": "python",
   "pygments_lexer": "ipython3",
   "version": "3.10.2"
  }
 },
 "nbformat": 4,
 "nbformat_minor": 5
}
