{
 "cells": [
  {
   "cell_type": "markdown",
   "metadata": {},
   "source": [
    "## My modified example from DL"
   ]
  },
  {
   "cell_type": "code",
   "execution_count": null,
   "metadata": {
    "code_folding": []
   },
   "outputs": [],
   "source": [
    "# http://people.csail.mit.edu/hubert/pyaudio/\n",
    "# https://dsp.stackexchange.com/questions/49436/scale-fft-frequency-range-for-a-bars-graph\n",
    "# https://stackoverflow.com/questions/25689238/show-origin-axis-x-y-in-matplotlib-plot\n",
    "\n",
    "from __future__ import print_function\n",
    "import numpy as np\n",
    "from matplotlib import pyplot as plt\n",
    "from scipy.fft import dct, dst\n",
    "\n",
    "%matplotlib inline\n",
    "plt.rcParams[\"figure.figsize\"] = (18,5)"
   ]
  },
  {
   "cell_type": "code",
   "execution_count": null,
   "metadata": {
    "code_folding": []
   },
   "outputs": [],
   "source": [
    "T = 1     # 1 sec\n",
    "SAMPLES   = 8000\n",
    "HARMONIC1 =  7.0\n",
    "HARMONIC2 = 17.0\n",
    "HARMONIC3 = 23.0\n",
    "\n",
    "X = np.linspace(0, T, SAMPLES)\n",
    "Y = np.sin(HARMONIC1 * 2*np.pi*X) * 1.0 \\\n",
    "  + np.sin(HARMONIC2 * 2*np.pi*X) * 2.0 \\\n",
    "  + np.sin(HARMONIC3 * 2*np.pi*X) * 3.0 \\\n",
    "  + 0.12345\n",
    "\n",
    "plt.plot(X, Y)\n",
    "plt.grid()\n",
    "plt.show()"
   ]
  },
  {
   "cell_type": "code",
   "execution_count": null,
   "metadata": {},
   "outputs": [],
   "source": [
    "# Fast Fourier transform\n",
    "# o[0] -> DC offset (divide by number of samples)\n",
    "# o[1] .. o[SAMPLES/2] -> FFT, complex -> use abs() to get real\n",
    "YF = np.fft.rfft(Y)\n",
    "XF = np.fft.rfftfreq(SAMPLES, T/SAMPLES)\n",
    "#plt.plot(XF[:100], np.abs(YF)[:100])\n",
    "plt.bar(XF[:100], np.abs(YF)[:100])\n",
    "plt.show()"
   ]
  },
  {
   "cell_type": "code",
   "execution_count": null,
   "metadata": {},
   "outputs": [],
   "source": [
    "# Print FFT values\n",
    "print(\"DC offset = %.5f\" % (np.abs(YF[0]) / SAMPLES))\n",
    "\n",
    "for i, x in enumerate(YF):\n",
    "    if ((np.abs(x) / SAMPLES) > 0.01): # limit prints to 1%\n",
    "        print(\"%4d %9.5f\"  % (i, np.abs(x) * 2 / SAMPLES))"
   ]
  },
  {
   "cell_type": "code",
   "execution_count": null,
   "metadata": {},
   "outputs": [],
   "source": [
    "# Discrete cosine transform\n",
    "odct = dct(Y)\n",
    "plt.bar(range(len(odct)), odct)\n",
    "plt.show()"
   ]
  },
  {
   "cell_type": "code",
   "execution_count": null,
   "metadata": {},
   "outputs": [],
   "source": [
    "# Discrete sine transform\n",
    "odst = dst(a)\n",
    "plt.bar(range(len(odst)), odst)\n",
    "plt.show()"
   ]
  },
  {
   "cell_type": "code",
   "execution_count": null,
   "metadata": {},
   "outputs": [],
   "source": [
    "# Gamma curve. FFT of this function has exponential coefficients.\n",
    "# PS. Is it surprising?\n",
    "gamma = [255 * (x / 255) ** (1/2.2) for x in range(256)]\n",
    "plt.plot(gamma)\n",
    "plt.show()"
   ]
  },
  {
   "cell_type": "code",
   "execution_count": null,
   "metadata": {},
   "outputs": [],
   "source": [
    "# clamp Y to y=[-1:1] using \"sigmoid\" function, e.g. tanh()\n",
    "TY = np.tanh(Y)\n",
    "plt.plot(X, TY, X, np.tanh(X))\n",
    "plt.show()"
   ]
  },
  {
   "cell_type": "code",
   "execution_count": null,
   "metadata": {},
   "outputs": [],
   "source": [
    "# observe added harmonics\n",
    "TF = np.fft.rfft(TY)\n",
    "plt.bar(np.arange(100), np.abs(TF[:100]))  # limit to 100\n",
    "plt.show()"
   ]
  },
  {
   "cell_type": "code",
   "execution_count": null,
   "metadata": {},
   "outputs": [],
   "source": [
    "# clamp Y to y=[-pi/2:pi/2] using \"sigmoid\" function, e.g. arctan()\n",
    "ATY = np.arctan(Y)\n",
    "plt.plot(X, ATY, X, np.arctan(X))\n",
    "plt.show()"
   ]
  },
  {
   "cell_type": "code",
   "execution_count": null,
   "metadata": {},
   "outputs": [],
   "source": [
    "ATF = np.fft.rfft(ATY)\n",
    "plt.bar(np.arange(100), np.abs(ATF[1:101]))  # limit to 100\n",
    "plt.show()"
   ]
  },
  {
   "cell_type": "code",
   "execution_count": null,
   "metadata": {},
   "outputs": [],
   "source": [
    "plt.plot(X, np.tanh(X),\n",
    "         X, 2/np.pi*np.arctan(X*np.pi/2),\n",
    "         X, np.clip(X, 0, 1))\n",
    "\n",
    "plt.show()"
   ]
  }
 ],
 "metadata": {
  "kernelspec": {
   "display_name": "Python 3 (ipykernel)",
   "language": "python",
   "name": "python3"
  },
  "language_info": {
   "codemirror_mode": {
    "name": "ipython",
    "version": 3
   },
   "file_extension": ".py",
   "mimetype": "text/x-python",
   "name": "python",
   "nbconvert_exporter": "python",
   "pygments_lexer": "ipython3",
   "version": "3.10.2"
  }
 },
 "nbformat": 4,
 "nbformat_minor": 4
}
