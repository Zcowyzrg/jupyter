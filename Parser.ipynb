{
 "cells": [
  {
   "cell_type": "code",
   "execution_count": null,
   "id": "5ec4636b",
   "metadata": {},
   "outputs": [],
   "source": [
    "import yaml\n",
    "data = [{'name':'Eenie','fields':[{'name':'eey'}, {'name':'eez'}]},{'name':'Meenie','fields':[{'name':'meh'}]}]\n",
    "\n",
    "print(yaml.dump(data,sort_keys=False))"
   ]
  },
  {
   "cell_type": "code",
   "execution_count": null,
   "id": "233aaf92",
   "metadata": {},
   "outputs": [],
   "source": [
    "import pyparsing as pp\n",
    "import json\n",
    "from pyparsing import Word, Suppress, Group, ZeroOrMore, Keyword\n",
    "\n",
    "# https://stackoverflow.com/questions/25238740/nested-dictionary-output-from-pyparsing\n",
    "\n",
    "data = r\"\"\"\n",
    "reg Eenie { field eey; field eez; }\n",
    "reg Meenie { field meh; }\n",
    "\"\"\"\n",
    "\n",
    "LPAR, RPAR, SEMI = map(Suppress, ('{};'))\n",
    "\n",
    "g_field = Suppress(Keyword('field')) + pp.common.identifier + SEMI\n",
    "g_reg_header = Suppress(Keyword('reg')) + pp.common.identifier('r')\n",
    "g_reg = Group(g_reg_header + LPAR + Group(ZeroOrMore(g_field))('f') + RPAR)\n",
    "g_head = ZeroOrMore(g_reg)('h')\n",
    "\n",
    "res = g_head.parse_string(data)\n",
    "#print(\"DM\", res.dump())\n",
    "print(\"LI\", res.as_list())\n",
    "print(\"DI\", res.as_dict())\n",
    "\n",
    "# print using tables or named groups\n",
    "def mydump(pres):\n",
    "    print('---')  # YAML\n",
    "    for rr in res:\n",
    "        print(f\"- name: {rr[0]}\\n  fields: \") # or rr.r\n",
    "        for rf in rr[1]: # or rr.f\n",
    "            print(f\"  - name: {rf}\")\n",
    "\n",
    "mydump(res)"
   ]
  },
  {
   "cell_type": "markdown",
   "id": "2339fcbd",
   "metadata": {},
   "source": [
    "### Ignore syntax element\n"
   ]
  },
  {
   "cell_type": "code",
   "execution_count": null,
   "id": "41f3689c",
   "metadata": {},
   "outputs": [],
   "source": [
    "data = r\"\"\"\n",
    "reg Eenie { field eey; field eez; whatever xxx;}\n",
    "reg Meenie { field meh; }\n",
    "\"\"\"\n",
    "\n",
    "LPAR, RPAR, SEMI = map(Suppress, ('{};'))\n",
    "\n",
    "g_field = Suppress(Keyword('field')) + pp.common.identifier + SEMI\n",
    "g_whatever = Keyword('whatever') + pp.common.identifier + SEMI\n",
    "g_reg_header = Suppress(Keyword('reg')) + pp.common.identifier('r')\n",
    "g_reg = Group(g_reg_header + LPAR + Group(ZeroOrMore(g_field|g_whatever))('f') + RPAR)\n",
    "g_reg.ignore(g_whatever)\n",
    "g_head = OneOrMore(g_reg)('h')\n",
    "\n",
    "res = g_head.parse_string(data)\n",
    "#print(\"DM\", res.dump())\n",
    "print(\"LI\", res.as_list())\n",
    "print(\"DI\", res.as_dict())\n",
    "\n",
    "# print using tables or named groups\n",
    "def mydump(pres):\n",
    "    print('---')  # almost like YAML\n",
    "    for rr in res:\n",
    "        print(f\"- name: {rr[0]}\\n  fields: \") # or rr.r\n",
    "        for rf in rr[1]: # or rr.f\n",
    "            print(f\"  - name: {rf}\")\n",
    "\n",
    "mydump(res)"
   ]
  }
 ],
 "metadata": {
  "kernelspec": {
   "display_name": "Python 3 (ipykernel)",
   "language": "python",
   "name": "python3"
  },
  "language_info": {
   "codemirror_mode": {
    "name": "ipython",
    "version": 3
   },
   "file_extension": ".py",
   "mimetype": "text/x-python",
   "name": "python",
   "nbconvert_exporter": "python",
   "pygments_lexer": "ipython3",
   "version": "3.10.4"
  }
 },
 "nbformat": 4,
 "nbformat_minor": 5
}
