{
 "cells": [
  {
   "cell_type": "code",
   "execution_count": null,
   "id": "5ec4636b",
   "metadata": {},
   "outputs": [],
   "source": [
    "import yaml\n",
    "\n",
    "data = [{'name':'Eenie','fields':[{'name':'eey'},{'name':'eez'}]},\n",
    "        {'name':'Meenie','fields':[{'name':'meh'}]}]\n",
    "\n",
    "print(yaml.dump(data,sort_keys=False))"
   ]
  },
  {
   "cell_type": "markdown",
   "id": "598caad8",
   "metadata": {},
   "source": [
    "### Parsing - import\n",
    "\n",
    "- https://pyparsing-docs.readthedocs.io/en/latest/HowToUsePyparsing.html\n",
    "- https://stackoverflow.com/questions/25238740/ested-dictionary-output-from-pyparsing"
   ]
  },
  {
   "cell_type": "code",
   "execution_count": null,
   "id": "0897afa4",
   "metadata": {},
   "outputs": [],
   "source": [
    "import pyparsing as pp\n",
    "import json\n",
    "from pyparsing import Word, Suppress, Group, ZeroOrMore, Keyword\n",
    "\n",
    "data = r\"\"\"\n",
    "reg Eenie { field eey; field eez; }\n",
    "reg Meenie { field meh; }\n",
    "\"\"\""
   ]
  },
  {
   "cell_type": "markdown",
   "id": "64ef2b54",
   "metadata": {},
   "source": [
    "### Linear"
   ]
  },
  {
   "cell_type": "code",
   "execution_count": null,
   "id": "fc7aa2d2",
   "metadata": {},
   "outputs": [],
   "source": [
    "LPAR, RPAR, SEMI = map(Suppress, ('{};'))\n",
    "\n",
    "g_field = Keyword('field') + pp.common.identifier + SEMI\n",
    "g_reg_header = Keyword('reg') + pp.common.identifier\n",
    "g_reg = g_reg_header + LPAR + ZeroOrMore(g_field) + RPAR\n",
    "g_head = ZeroOrMore(g_reg)\n",
    "\n",
    "res = g_head.parse_string(data)\n",
    "print(\"LI\", res.as_list())"
   ]
  },
  {
   "cell_type": "markdown",
   "id": "88040d93",
   "metadata": {},
   "source": [
    "### Groups"
   ]
  },
  {
   "cell_type": "code",
   "execution_count": null,
   "id": "e084e959",
   "metadata": {},
   "outputs": [],
   "source": [
    "LPAR, RPAR, SEMI = map(Suppress, ('{};'))\n",
    "\n",
    "g_field = Group(Keyword('field') + pp.common.identifier('i') + SEMI)\n",
    "g_reg_header = Keyword('reg') + pp.common.identifier('r')\n",
    "g_reg = Group(g_reg_header + LPAR + ZeroOrMore(g_field)('f') + RPAR)\n",
    "g_head = ZeroOrMore(g_reg)('h')\n",
    "\n",
    "res = g_head.parse_string(data)\n",
    "print(\"LI\", res.as_list())\n",
    "print(\"DI\", res.as_dict())\n",
    "\n",
    "assert res.h[0].f[1].i == 'eez'"
   ]
  },
  {
   "cell_type": "markdown",
   "id": "06772834",
   "metadata": {},
   "source": [
    "### Named groups, suppressed"
   ]
  },
  {
   "cell_type": "code",
   "execution_count": null,
   "id": "233aaf92",
   "metadata": {},
   "outputs": [],
   "source": [
    "LPAR, RPAR, SEMI = map(Suppress, ('{};'))\n",
    "\n",
    "# if Group() was on `g_field` and not on `ZeroOrMore(g_field)`, it would be ['eey'], ['eez']\n",
    "g_field = Suppress(Keyword('field')) + pp.common.identifier + SEMI\n",
    "g_reg_header = Suppress(Keyword('reg')) + pp.common.identifier('r')\n",
    "g_reg = Group(g_reg_header + LPAR + Group(ZeroOrMore(g_field))('f') + RPAR)\n",
    "g_head = ZeroOrMore(g_reg)('h')\n",
    "\n",
    "res = g_head.parse_string(data)\n",
    "print(\"LI\", res.as_list())\n",
    "print(\"DI\", res.as_dict())\n",
    "\n",
    "assert res.h[0].f[1] == 'eez'"
   ]
  },
  {
   "cell_type": "markdown",
   "id": "2339fcbd",
   "metadata": {},
   "source": [
    "### Ignore syntax element\n"
   ]
  },
  {
   "cell_type": "code",
   "execution_count": null,
   "id": "41f3689c",
   "metadata": {},
   "outputs": [],
   "source": [
    "ndata = r\"\"\"\n",
    "reg Eenie { field eey; field eez; whatever xxx;}\n",
    "reg Meenie { field meh; }\n",
    "\"\"\"\n",
    "\n",
    "LPAR, RPAR, SEMI = map(Suppress, ('{};'))\n",
    "\n",
    "g_field = Suppress(Keyword('field')) + pp.common.identifier + SEMI\n",
    "g_whatever = Keyword('whatever') + pp.common.identifier + SEMI\n",
    "g_reg_header = Suppress(Keyword('reg')) + pp.common.identifier('r')\n",
    "g_reg = Group(g_reg_header + LPAR + Group(ZeroOrMore(g_field|g_whatever))('f') + RPAR)\n",
    "g_reg.ignore(g_whatever)\n",
    "g_head = OneOrMore(g_reg)('h')\n",
    "\n",
    "res = g_head.parse_string(ndata)\n",
    "#print(\"DM\", res.dump())\n",
    "print(\"LI\", res.as_list())\n",
    "print(\"DI\", res.as_dict())"
   ]
  }
 ],
 "metadata": {
  "kernelspec": {
   "display_name": "Python 3 (ipykernel)",
   "language": "python",
   "name": "python3"
  },
  "language_info": {
   "codemirror_mode": {
    "name": "ipython",
    "version": 3
   },
   "file_extension": ".py",
   "mimetype": "text/x-python",
   "name": "python",
   "nbconvert_exporter": "python",
   "pygments_lexer": "ipython3",
   "version": "3.10.4"
  }
 },
 "nbformat": 4,
 "nbformat_minor": 5
}
