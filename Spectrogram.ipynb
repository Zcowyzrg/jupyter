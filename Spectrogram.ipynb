{
 "cells": [
  {
   "cell_type": "markdown",
   "id": "85b2e4d1",
   "metadata": {},
   "source": [
    "## Spectrogram"
   ]
  },
  {
   "cell_type": "code",
   "execution_count": null,
   "id": "f97cb4ad",
   "metadata": {},
   "outputs": [],
   "source": [
    "from scipy.fft import fft, fftfreq\n",
    "from scipy.signal import spectrogram\n",
    "import numpy as np\n",
    "import matplotlib.pyplot as plt\n",
    "\n",
    "%matplotlib inline\n",
    "plt.rcParams[\"figure.figsize\"] = (18, 9)\n",
    "\n",
    "rng = np.random.default_rng()\n",
    "\n",
    "fs = 10e3\n",
    "N = 1e5\n",
    "amp = 2 * np.sqrt(2)\n",
    "noise_power = 0.01 * fs / 2\n",
    "time = np.arange(N) / float(fs)\n",
    "mod = 500*np.cos(2*np.pi*0.25*time)\n",
    "carrier = amp * np.sin(2*np.pi*3e3*time + mod)\n",
    "noise = rng.normal(scale=np.sqrt(noise_power), size=time.shape)\n",
    "noise *= np.exp(-time/5)\n",
    "x = carrier + noise + 3 * np.sin(1000 * 2*np.pi * time)\n",
    "\n",
    "f, t, Sxx = spectrogram(x, fs)\n",
    "plt.pcolormesh(t, f, Sxx, cmap='inferno', shading='gouraud')\n",
    "plt.ylabel('Frequency [Hz]')\n",
    "plt.xlabel('Time [sec]')\n",
    "plt.show()"
   ]
  },
  {
   "cell_type": "code",
   "execution_count": null,
   "id": "7f769193",
   "metadata": {},
   "outputs": [],
   "source": [
    "# moje\n",
    "HZ = [500, 900]\n",
    "SAMPLE_RATE = 8000\n",
    "TIME_SEC = 3\n",
    "NSAMP = TIME_SEC * SAMPLE_RATE\n",
    "X = np.linspace(0, TIME_SEC, NSAMP, endpoint=False)\n",
    "Y = np.zeros(NSAMP)\n",
    "for hz in HZ:\n",
    "    Y = np.add(Y, np.sin(hz * 2 * np.pi * X) / len(HZ))\n",
    "f, t, Sxx = spectrogram(Y, SAMPLE_RATE)\n",
    "plt.pcolormesh(t, f, Sxx, cmap='inferno', shading='gouraud')\n",
    "plt.ylabel('Frequency [Hz]')\n",
    "plt.xlabel('Time [sec]')\n",
    "plt.show()"
   ]
  }
 ],
 "metadata": {
  "kernelspec": {
   "display_name": "Python 3 (ipykernel)",
   "language": "python",
   "name": "python3"
  },
  "language_info": {
   "codemirror_mode": {
    "name": "ipython",
    "version": 3
   },
   "file_extension": ".py",
   "mimetype": "text/x-python",
   "name": "python",
   "nbconvert_exporter": "python",
   "pygments_lexer": "ipython3",
   "version": "3.10.2"
  }
 },
 "nbformat": 4,
 "nbformat_minor": 5
}
