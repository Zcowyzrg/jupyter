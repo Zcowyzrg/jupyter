{
 "cells": [
  {
   "cell_type": "code",
   "execution_count": null,
   "id": "2ee23d35",
   "metadata": {},
   "outputs": [],
   "source": [
    "import xml.etree.ElementTree as ET\n",
    "tree = ET.parse('soap.xml')\n",
    "rt = tree.getroot()"
   ]
  },
  {
   "cell_type": "code",
   "execution_count": null,
   "id": "9833f00b",
   "metadata": {},
   "outputs": [],
   "source": [
    "def dive(el, spc):\n",
    "    for e in el:\n",
    "        print(' ' * spc * 4, e.tag)\n",
    "        dive(e, spc + 1)\n",
    "dive(rt, 0)"
   ]
  }
 ],
 "metadata": {
  "kernelspec": {
   "display_name": "Python 3 (ipykernel)",
   "language": "python",
   "name": "python3"
  },
  "language_info": {
   "codemirror_mode": {
    "name": "ipython",
    "version": 3
   },
   "file_extension": ".py",
   "mimetype": "text/x-python",
   "name": "python",
   "nbconvert_exporter": "python",
   "pygments_lexer": "ipython3",
   "version": "3.10.4"
  }
 },
 "nbformat": 4,
 "nbformat_minor": 1
}
