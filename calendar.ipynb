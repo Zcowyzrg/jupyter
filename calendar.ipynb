{
 "cells": [
  {
   "cell_type": "code",
   "execution_count": null,
   "id": "427bfb04",
   "metadata": {},
   "outputs": [],
   "source": [
    "from datetime import datetime, timedelta\n",
    "\n",
    "today = datetime.today()\n",
    "print('Today is:', today)\n",
    "first_day = today - timedelta(days=today.weekday())\n",
    "print('First day of week:', first_day.year, first_day.month, first_day.day)\n",
    "\n",
    "MAX_WEEKS = 12\n",
    "\n",
    "for day_it in range(MAX_WEEKS * 7):\n",
    "    day = first_day + timedelta(days=day_it)\n",
    "    sep = \"\\n\" if day.weekday() == 6 else ' | '\n",
    "    print(f'{day.day:02}/{day.month:02}', end=sep)\n"
   ]
  }
 ],
 "metadata": {
  "kernelspec": {
   "display_name": "Python 3 (ipykernel)",
   "language": "python",
   "name": "python3"
  },
  "language_info": {
   "codemirror_mode": {
    "name": "ipython",
    "version": 3
   },
   "file_extension": ".py",
   "mimetype": "text/x-python",
   "name": "python",
   "nbconvert_exporter": "python",
   "pygments_lexer": "ipython3",
   "version": "3.10.4"
  }
 },
 "nbformat": 4,
 "nbformat_minor": 5
}
