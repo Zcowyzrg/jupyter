{
 "cells": [
  {
   "cell_type": "code",
   "execution_count": null,
   "metadata": {},
   "outputs": [],
   "source": [
    "# http://www.dspguide.com/filtexam.htm\n",
    "\n",
    "from __future__ import print_function\n",
    "import numpy as np\n",
    "import math\n",
    "from matplotlib import pyplot as plt\n",
    "\n",
    "plt.rcParams[\"figure.figsize\"] = (15,5)\n",
    "\n",
    "\n",
    "F = []\n",
    "klen = 100\n",
    "\n",
    "for x in range(klen):\n",
    "    if x - klen/2 == 0:\n",
    "        v = 2 * math.pi * 0.1\n",
    "    else:\n",
    "        v = math.sin(2 * math.pi * 0.1 * (x - klen / 2)) / (x - klen / 2)\n",
    "    v = v * (0.54 - 0.46 * math.cos(2 * math.pi * x / klen))\n",
    "    F.append(v)\n",
    "\n",
    "plt.plot(F)\n",
    "plt.show()"
   ]
  },
  {
   "cell_type": "code",
   "execution_count": null,
   "metadata": {},
   "outputs": [],
   "source": [
    "X = np.empty((0, 100), dtype=np.double)\n",
    "for i,j in enumerate(X):\n",
    "    X[i] = i\n",
    "    print(i)\n",
    "X"
   ]
  },
  {
   "cell_type": "code",
   "execution_count": null,
   "metadata": {},
   "outputs": [],
   "source": []
  }
 ],
 "metadata": {
  "kernelspec": {
   "display_name": "Python 3",
   "language": "python",
   "name": "python3"
  },
  "language_info": {
   "codemirror_mode": {
    "name": "ipython",
    "version": 3
   },
   "file_extension": ".py",
   "mimetype": "text/x-python",
   "name": "python",
   "nbconvert_exporter": "python",
   "pygments_lexer": "ipython3",
   "version": "3.7.4"
  }
 },
 "nbformat": 4,
 "nbformat_minor": 4
}
