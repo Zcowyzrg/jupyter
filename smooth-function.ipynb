{
 "cells": [
  {
   "cell_type": "markdown",
   "metadata": {},
   "source": [
    "This is an example code to show usage of Python `nonlocal` variable.\n",
    "The `smooth` function is (has?) a closure and acts a a lighter alternative to a class definition.\n",
    "\n",
    "The code uses `matplotlib` to plot some random data. The `smooth` function processes the data with different \"smoothing\" factors which are actually values for weight of an rolling average function.\n",
    "\n",
    "The effect of running this code is a file named `smooth-function.png` visible in Jupyter browser."
   ]
  },
  {
   "cell_type": "code",
   "execution_count": null,
   "metadata": {},
   "outputs": [],
   "source": [
    "import matplotlib as mpl\n",
    "mpl.use('Agg')\n",
    "import matplotlib.pyplot as plt\n",
    "from random import randint\n",
    "\n",
    "def smooth(fact):\n",
    "    prev = 0\n",
    "    def _sm(val):\n",
    "        nonlocal prev\n",
    "        a = fact * val + (1 - fact) * prev\n",
    "        prev = a\n",
    "        return a\n",
    "    return _sm\n",
    "\n",
    "fig = plt.figure(figsize=(16, 9))\n",
    "ax = fig.add_subplot(111)\n",
    "\n",
    "points = [100] * 10 + [0] * 10\n",
    "last = 0\n",
    "bound = 100\n",
    "for i in range(0, 100):\n",
    "    last += randint(-bound, bound)\n",
    "    points.append(last)\n",
    "\n",
    "sm2 = smooth(0.2)\n",
    "sm3 = smooth(0.3)\n",
    "sm5 = smooth(0.5)\n",
    "\n",
    "x2points = list(map(sm2, points))\n",
    "x3points = list(map(sm3, points))\n",
    "x5points = list(map(sm5, points))\n",
    "\n",
    "ax.plot(points)\n",
    "ax.plot(x2points, label='0.2')\n",
    "ax.plot(x3points, label='0.3')\n",
    "ax.plot(x5points, label='0.5')\n",
    "ax.legend()\n",
    "\n",
    "fig.savefig('smooth-function.png')"
   ]
  }
 ],
 "metadata": {
  "kernelspec": {
   "display_name": "Python 3",
   "language": "python",
   "name": "python3"
  },
  "language_info": {
   "codemirror_mode": {
    "name": "ipython",
    "version": 3
   },
   "file_extension": ".py",
   "mimetype": "text/x-python",
   "name": "python",
   "nbconvert_exporter": "python",
   "pygments_lexer": "ipython3",
   "version": "3.7.4"
  }
 },
 "nbformat": 4,
 "nbformat_minor": 2
}
