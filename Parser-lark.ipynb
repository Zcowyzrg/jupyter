{
 "cells": [
  {
   "cell_type": "markdown",
   "id": "6f88a8b0",
   "metadata": {},
   "source": [
    "## Lark parser\n",
    "\n",
    "* https://github.com/lark-parser/lark\n",
    "* https://lark-parser.readthedocs.io/en/latest/\n",
    "\n",
    "\n",
    "### Simple grammar and transformer"
   ]
  },
  {
   "cell_type": "code",
   "execution_count": null,
   "id": "e179df0b",
   "metadata": {},
   "outputs": [],
   "source": [
    "from lark import Lark\n",
    "from pprint import pprint\n",
    "\n",
    "l = Lark('''\n",
    "start: reg+\n",
    "reg: \"reg\" WORD \"{\" field* \"}\"\n",
    "field: \"field\" WORD \";\"\n",
    "\n",
    "%import common.WORD\n",
    "%import common.WS\n",
    "%ignore WS\n",
    "''')\n",
    "\n",
    "data = '''reg Eenie { field eey; field eez; }\n",
    "reg Meenie { field meh; }'''\n",
    "\n",
    "top = l.parse(data)\n",
    "\n",
    "print(top.pretty())\n",
    "print('top.children[0].children =', top.children[0].children)\n",
    "print('top.data =', top.data)"
   ]
  },
  {
   "cell_type": "code",
   "execution_count": null,
   "id": "d7c31aa2",
   "metadata": {},
   "outputs": [],
   "source": [
    "from lark import Transformer\n",
    "\n",
    "class MyTransformer(Transformer):\n",
    "    def field(self, args):\n",
    "        pprint(args)\n",
    "        return str(args[0])\n",
    "    def reg(self, args):\n",
    "        pprint(args)\n",
    "        return (str(args[0]), args[1:])\n",
    "\n",
    "MyTransformer().transform(top).children"
   ]
  },
  {
   "cell_type": "markdown",
   "id": "50ae8d90",
   "metadata": {},
   "source": [
    "### More complex grammar, transformer and visitor (topdown)"
   ]
  },
  {
   "cell_type": "code",
   "execution_count": null,
   "id": "08c83fff",
   "metadata": {},
   "outputs": [],
   "source": [
    "l2 = Lark('''\n",
    "start: block+\n",
    "block: \"block\" WORD \"{\" block_item* \"}\"\n",
    "block_item: bytes | registers | endianness\n",
    "bytes: \"bytes\" INT \";\"\n",
    "!endianness: \"endian\" (\"little\" | \"big\") \";\"\n",
    "registers: \"register\" WORD \";\"\n",
    "\n",
    "%import common.INT\n",
    "%import common.WORD\n",
    "%import common.WS\n",
    "\n",
    "%ignore WS\n",
    "''')\n",
    "data2 = '''\n",
    "block kezlok {\n",
    "  bytes 2;\n",
    "  register a;\n",
    "  register n;\n",
    "  endian little;\n",
    "  register h;\n",
    "}\n",
    "block klancyk { }\n",
    "'''\n",
    "top2 = l2.parse(data2)\n",
    "print(top2.pretty())"
   ]
  },
  {
   "cell_type": "code",
   "execution_count": null,
   "id": "4630fd91",
   "metadata": {},
   "outputs": [],
   "source": [
    "from lark import Discard\n",
    "\n",
    "class L2Transformer(Transformer):\n",
    "    regs_a = []\n",
    "\n",
    "    INT = int\n",
    "    WORD = str\n",
    "    def start(self, args):\n",
    "        print(\"st \", args)\n",
    "        return args\n",
    "    def block(self, args):\n",
    "        print(\"blk\", args, args[0])\n",
    "        rv = {'name':str(args[0]), 'regs':self.regs_a}\n",
    "        self.regs_a = []\n",
    "        return rv\n",
    "    # If not defined, will not inline args, but return tree\n",
    "    # def block_item(self, args):\n",
    "    #     print(\"bli\", args)\n",
    "    #     return args\n",
    "    def registers(self, args):\n",
    "        print(\"reg\", args, args[0])\n",
    "        self.regs_a.append(str(args[0]))\n",
    "        return args\n",
    "    def bytes(self, args):\n",
    "        print(\"byt\", args)\n",
    "        return args\n",
    "    def endianness(self, args):\n",
    "        print(\"end\", args)\n",
    "        return args[1]\n",
    "        #return Discard\n",
    "    # To skip rules, you can also define them like: \"bytes: (...) -> skip\"\n",
    "    # def skip(self, args):\n",
    "    #     return None\n",
    "\n",
    "trx = L2Transformer().transform(top2)\n",
    "trx\n",
    "#trx.children[0]['regs'][0]"
   ]
  },
  {
   "cell_type": "code",
   "execution_count": null,
   "id": "33cded99",
   "metadata": {},
   "outputs": [],
   "source": [
    "from lark import Visitor\n",
    "\n",
    "class L2visitor(Visitor):\n",
    "    def __init__(self):\n",
    "        self.blocks = []\n",
    "    def block(self, tree):\n",
    "        #print(\"tree: \", tree)\n",
    "        self.blocks.append({'name':str(tree.children[0]), 'regs':[]})\n",
    "    def registers(self, tree):\n",
    "        #print(\"regs: \", tree)\n",
    "        self.blocks[-1]['regs'].append(str(tree.children[0]))\n",
    "\n",
    "\n",
    "vi2 = L2visitor()\n",
    "vi2.visit_topdown(top2)\n",
    "vi2.blocks"
   ]
  },
  {
   "cell_type": "code",
   "execution_count": null,
   "id": "4861245d",
   "metadata": {},
   "outputs": [],
   "source": []
  }
 ],
 "metadata": {
  "kernelspec": {
   "display_name": "Python 3 (ipykernel)",
   "language": "python",
   "name": "python3"
  },
  "language_info": {
   "codemirror_mode": {
    "name": "ipython",
    "version": 3
   },
   "file_extension": ".py",
   "mimetype": "text/x-python",
   "name": "python",
   "nbconvert_exporter": "python",
   "pygments_lexer": "ipython3",
   "version": "3.10.4"
  }
 },
 "nbformat": 4,
 "nbformat_minor": 5
}
