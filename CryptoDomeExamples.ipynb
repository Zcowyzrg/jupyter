{
 "cells": [
  {
   "cell_type": "code",
   "execution_count": null,
   "id": "85785bc9",
   "metadata": {},
   "outputs": [],
   "source": [
    "from Crypto.Cipher import AES\n",
    "from Crypto.Random import get_random_bytes\n",
    "from Crypto.Protocol.KDF import scrypt\n",
    "\n",
    "data = b'My hovercraft is full of eels'\n",
    "#key = get_random_bytes(16)\n",
    "password = b'kielbasa'\n",
    "salt = get_random_bytes(16)\n",
    "key = scrypt(password, salt, 16, N=2**14, r=8, p=1)\n",
    "\n",
    "cipher = AES.new(key, AES.MODE_EAX)\n",
    "ciphertext, tag = cipher.encrypt_and_digest(data)\n",
    "\n",
    "with open('crypto.asc', 'wb') as fd:\n",
    "    print(salt.hex())\n",
    "    fd.write(salt.hex().encode('ascii'))\n",
    "    print(cipher.nonce.hex())\n",
    "    fd.write(cipher.nonce.hex().encode('ascii'))\n",
    "    print(tag.hex())\n",
    "    fd.write(tag.hex().encode('ascii'))\n",
    "    print(ciphertext.hex())\n",
    "    fd.write(ciphertext.hex().encode('ascii'))"
   ]
  },
  {
   "cell_type": "code",
   "execution_count": null,
   "id": "fa575496",
   "metadata": {},
   "outputs": [],
   "source": [
    "from Crypto.Cipher import AES\n",
    "\n",
    "with open(\"crypto.asc\", \"rb\") as fd:\n",
    "    salt = bytes.fromhex(fd.read(32).decode('ascii'))\n",
    "    nonce = bytes.fromhex(fd.read(32).decode('ascii'))\n",
    "    tag = bytes.fromhex(fd.read(32).decode('ascii'))\n",
    "    ciphertext = bytes.fromhex(fd.read(-1).decode('ascii'))\n",
    "\n",
    "# we know the password\n",
    "password = b'kielbasa'\n",
    "key = scrypt(password, salt, 16, N=2**14, r=8, p=1)\n",
    "cipher = AES.new(key, AES.MODE_EAX, nonce)\n",
    "data = cipher.decrypt_and_verify(ciphertext, tag)\n",
    "print(data.decode('ascii'))"
   ]
  }
 ],
 "metadata": {
  "kernelspec": {
   "display_name": "Python 3 (ipykernel)",
   "language": "python",
   "name": "python3"
  },
  "language_info": {
   "codemirror_mode": {
    "name": "ipython",
    "version": 3
   },
   "file_extension": ".py",
   "mimetype": "text/x-python",
   "name": "python",
   "nbconvert_exporter": "python",
   "pygments_lexer": "ipython3",
   "version": "3.10.4"
  }
 },
 "nbformat": 4,
 "nbformat_minor": 5
}
