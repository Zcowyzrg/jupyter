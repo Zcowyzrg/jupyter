{
 "cells": [
  {
   "cell_type": "code",
   "execution_count": null,
   "id": "9b681707",
   "metadata": {},
   "outputs": [],
   "source": [
    "from parsimonious.grammar import Grammar\n",
    "from parsimonious import NodeVisitor\n",
    "\n",
    "class Evaluator(NodeVisitor):\n",
    "    grammar = Grammar(\"\"\"\n",
    "        registers = register+\n",
    "        register = \"reg\" _ id _ LPAR _ field* _ RPAR _\n",
    "        field = \"field\" _ id _ SEMI _\n",
    "        id = ~\"[a-z0-9]+\"i\n",
    "        LPAR   = \"{\"\n",
    "        RPAR   = \"}\"\n",
    "        SEMI   = \";\"\n",
    "        _ = ~\"[\\\\s]*\"\n",
    "    \"\"\")\n",
    "    def visit_field(self, node, children):\n",
    "        return children[2]\n",
    "    def visit_register(self, node, children):\n",
    "        return children[2], children[6]\n",
    "    def generic_visit(self, node, children):\n",
    "        return children or node.text\n",
    "\n",
    "data = r\"\"\"reg Eenie { field eey; field eez; }\n",
    "reg Meenie { field meh; }\n",
    "\"\"\"\n",
    "Evaluator().parse(data)\n",
    "\n"
   ]
  }
 ],
 "metadata": {
  "kernelspec": {
   "display_name": "Python 3 (ipykernel)",
   "language": "python",
   "name": "python3"
  },
  "language_info": {
   "codemirror_mode": {
    "name": "ipython",
    "version": 3
   },
   "file_extension": ".py",
   "mimetype": "text/x-python",
   "name": "python",
   "nbconvert_exporter": "python",
   "pygments_lexer": "ipython3",
   "version": "3.10.4"
  }
 },
 "nbformat": 4,
 "nbformat_minor": 5
}
