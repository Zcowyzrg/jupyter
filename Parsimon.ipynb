{
 "cells": [
  {
   "cell_type": "markdown",
   "id": "ee116d40",
   "metadata": {},
   "source": [
    "https://github.com/erikrose/parsimonious"
   ]
  },
  {
   "cell_type": "code",
   "execution_count": null,
   "id": "9b681707",
   "metadata": {},
   "outputs": [],
   "source": [
    "from parsimonious.grammar import Grammar\n",
    "from parsimonious import NodeVisitor\n",
    "\n",
    "class Evaluator(NodeVisitor):\n",
    "    grammar = Grammar(\"\"\"\n",
    "        registers = register+\n",
    "        register = \"reg\" _ id _ LPAR _ field* _ RPAR _\n",
    "        field = \"field\" _ id _ SEMI _\n",
    "        id = ~\"[a-z0-9]+\"i\n",
    "        LPAR   = \"{\"\n",
    "        RPAR   = \"}\"\n",
    "        SEMI   = \";\"\n",
    "        _ = ~\"[\\\\s]*\"\n",
    "    \"\"\")\n",
    "    def visit_field(self, node, children):\n",
    "        return children[2]\n",
    "    def visit_register(self, node, children):\n",
    "        return children[2], children[6]\n",
    "    def generic_visit(self, node, children):\n",
    "        return children or node.text\n",
    "\n",
    "data = r\"\"\"reg Eenie { field eey; field eez; }\n",
    "reg Meenie { field meh; }\n",
    "\"\"\"\n",
    "Evaluator().parse(data)"
   ]
  },
  {
   "cell_type": "markdown",
   "id": "9b51185c",
   "metadata": {},
   "source": [
    "https://insights.sigasi.com/tech/systemverilog.ebnf/#numbers"
   ]
  },
  {
   "cell_type": "code",
   "execution_count": null,
   "id": "86df9ec4",
   "metadata": {},
   "outputs": [],
   "source": [
    "class NumberParser(NodeVisitor):\n",
    "    grammar = Grammar(\"\"\"\n",
    "        numbers = number*\n",
    "        number = sizedplainnumber / decnumber / hexnumber / plainnumber\n",
    "        sizedplainnumber = numberdigits \"'\" plainnumber\n",
    "        decnumber   = numberdigits? \"'d\" plainnumber\n",
    "        hexnumber   = numberdigits? \"'h\" plainhexnumber\n",
    "        plainnumber = numberdigits _?\n",
    "        plainhexnumber = hexdigits _?\n",
    "        numberdigits = ~\"[1-9]+[0-9]*\"\n",
    "        hexdigits = ~\"[1-9a-f]+[0-9a-f]*\"\n",
    "        _ = ~\"[\\\\s]*\"\n",
    "    \"\"\")\n",
    "    def visit_number(self, node, children):\n",
    "        return children[0]\n",
    "    def visit_plainnumber(self, node, children):\n",
    "        return int(children[0])\n",
    "    #def visit_decnumber(self, node, children):\n",
    "    #    return children[-1]\n",
    "    def visit_plainhexnumber(self, node, children):\n",
    "        return int(children[0], 16)\n",
    "    def generic_visit(self, node, children):\n",
    "        return children or node.text\n",
    "\n",
    "data = r\"\"\"123  10'20  456  'd10  'h10  13'd10  4'haf\"\"\"\n",
    "NumberParser().parse(data)"
   ]
  },
  {
   "cell_type": "code",
   "execution_count": null,
   "id": "447d0672",
   "metadata": {},
   "outputs": [],
   "source": []
  }
 ],
 "metadata": {
  "kernelspec": {
   "display_name": "Python 3 (ipykernel)",
   "language": "python",
   "name": "python3"
  },
  "language_info": {
   "codemirror_mode": {
    "name": "ipython",
    "version": 3
   },
   "file_extension": ".py",
   "mimetype": "text/x-python",
   "name": "python",
   "nbconvert_exporter": "python",
   "pygments_lexer": "ipython3",
   "version": "3.10.4"
  }
 },
 "nbformat": 4,
 "nbformat_minor": 5
}
