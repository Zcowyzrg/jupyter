{
 "cells": [
  {
   "cell_type": "code",
   "execution_count": null,
   "id": "fd102c80",
   "metadata": {},
   "outputs": [],
   "source": [
    "from sympy import init_session\n",
    "init_session()"
   ]
  },
  {
   "cell_type": "code",
   "execution_count": null,
   "id": "045fd9c8",
   "metadata": {},
   "outputs": [],
   "source": [
    "a = Eq(y, x**2)\n",
    "a"
   ]
  },
  {
   "cell_type": "code",
   "execution_count": null,
   "id": "3ecc4fa5",
   "metadata": {},
   "outputs": [],
   "source": [
    "a.subs(x, 1.414)"
   ]
  },
  {
   "cell_type": "code",
   "execution_count": null,
   "id": "0cd6049d",
   "metadata": {},
   "outputs": [],
   "source": [
    "solve(a, x)"
   ]
  }
 ],
 "metadata": {},
 "nbformat": 4,
 "nbformat_minor": 5
}
