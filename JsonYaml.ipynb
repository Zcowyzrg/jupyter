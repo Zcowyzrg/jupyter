{
 "cells": [
  {
   "cell_type": "code",
   "execution_count": null,
   "id": "ec151c76",
   "metadata": {},
   "outputs": [],
   "source": [
    "import yaml\n",
    "import json\n",
    "\n",
    "data = [\n",
    "    {'name':'Eenie',\n",
    "     'fields':[{'name':'eey'}, {'name':'eez'}]\n",
    "    },\n",
    "    {'name':'Meenie',\n",
    "     'fields':[{'name':'meh','range':[20,10]}]\n",
    "    }]\n",
    "print(yaml.dump(data, sort_keys=False))\n",
    "print(json.dumps(data, indent=2))"
   ]
  }
 ],
 "metadata": {
  "kernelspec": {
   "display_name": "Python 3 (ipykernel)",
   "language": "python",
   "name": "python3"
  },
  "language_info": {
   "codemirror_mode": {
    "name": "ipython",
    "version": 3
   },
   "file_extension": ".py",
   "mimetype": "text/x-python",
   "name": "python",
   "nbconvert_exporter": "python",
   "pygments_lexer": "ipython3",
   "version": "3.10.4"
  }
 },
 "nbformat": 4,
 "nbformat_minor": 5
}
