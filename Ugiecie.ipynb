{
 "cells": [
  {
   "cell_type": "code",
   "execution_count": null,
   "metadata": {},
   "outputs": [],
   "source": [
    "pom_x = 3.15\n",
    "pom_y = 3.85\n",
    "rozmiar = pom_x * pom_y\n",
    "print(\"rozmiar [m] = %.2f\" % rozmiar)\n",
    "waga_plyty = 10\n",
    "rockton = 0.50e2 / (100 / 7)\n",
    "megarock = 0.28e2 / (100 / 20)\n",
    "waga_metra = waga_plyty + rockton + megarock\n",
    "print(\"waga 1m2 [kg] = %.2f\" % waga_metra)\n",
    "waga_sufitu = waga_metra * rozmiar\n",
    "print(\"waga sufitu [kg] = %.2f\" % waga_sufitu)\n",
    "wieszaki = 9\n",
    "print(\"obc. wieszaka [kg] = %.2f\" % (waga_sufitu / wieszaki))"
   ]
  },
  {
   "cell_type": "code",
   "execution_count": null,
   "metadata": {},
   "outputs": [],
   "source": [
    "F = 450\n",
    "l = 2\n",
    "E = 210\n",
    "J = 4.05\n",
    "ug = (F * l ** 3) / (48e1 * E * J)\n",
    "print(\"ugięcie [mm] = %.2f\" % (ug * 1000))\n",
    "print(\"ugięcie [l/ug] = %.2f\" % (l / ug))"
   ]
  }
 ],
 "metadata": {
  "kernelspec": {
   "display_name": "Python 3 (ipykernel)",
   "language": "python",
   "name": "python3"
  },
  "language_info": {
   "codemirror_mode": {
    "name": "ipython",
    "version": 3
   },
   "file_extension": ".py",
   "mimetype": "text/x-python",
   "name": "python",
   "nbconvert_exporter": "python",
   "pygments_lexer": "ipython3",
   "version": "3.10.2"
  }
 },
 "nbformat": 4,
 "nbformat_minor": 1
}
